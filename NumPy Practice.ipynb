{
 "cells": [
  {
   "cell_type": "code",
   "execution_count": 1,
   "metadata": {},
   "outputs": [],
   "source": [
    "import numpy as np\n",
    "import time\n",
    "import pandas as pd"
   ]
  },
  {
   "cell_type": "markdown",
   "metadata": {},
   "source": [
    "#### We Will Create Different Types of NumPy Array's"
   ]
  },
  {
   "cell_type": "code",
   "execution_count": 2,
   "metadata": {},
   "outputs": [],
   "source": [
    "a=np.array([\n",
    "    [1,2,3],\n",
    "    [4,5,6],\n",
    "    [9,9,9]\n",
    "],dtype=np.float32)  ## Specifically Defining the Data Type\n",
    "\n",
    "b=np.array([\n",
    "    [10,20,30],\n",
    "    [40,50,60],\n",
    "    [70,80,90]\n",
    "],dtype=np.int32) \n",
    "\n",
    "c=np.array([\n",
    "    [\n",
    "        [1,2,3,4],\n",
    "        [1,1,1,1],\n",
    "        [4,5,6,7],\n",
    "        [9,8,7,8]\n",
    "    ]\n",
    "])\n",
    "\n",
    "d= np.array( [20,30,40,50] ) ## This Is Not a NumPy array of Inconsistent Shape which can cause problems in multiplications. \n",
    "                            ##   Always Remember to Reshape it to (n,1). I have done below\n",
    "\n",
    "e= np.arange(1,10,2).reshape(1,5) ## ARange Is just a Python Range that Forms a List\n",
    "\n",
    "f=np.zeros((2,3)) ## A NumPy Array of Zeros. Similarly you Can use np.ones also\n",
    "\n",
    "g=np.arange(12).reshape(4,3) # To form an array of certain shape from a list of 1D. Remeber Shape when multiplied should \n",
    "                             # be equal to n\n",
    "\n",
    "h=np.eye(8,8,k=1) ## A Diagonal Matrix. K specifies where the diagonal is filled. If 0 it is the center. "
   ]
  },
  {
   "cell_type": "code",
   "execution_count": 3,
   "metadata": {},
   "outputs": [
    {
     "name": "stdout",
     "output_type": "stream",
     "text": [
      "[[1. 2. 3.]\n",
      " [4. 5. 6.]\n",
      " [9. 9. 9.]]\n",
      "Shape of a is  (3, 3)\n",
      "Data Type of Elements in a is  float32\n",
      "Total Number of ELements In a are  9\n",
      "***************************\n",
      "[[10 20 30]\n",
      " [40 50 60]\n",
      " [70 80 90]]\n",
      "Shape of b is  (3, 3)\n",
      "***************************\n",
      "[[[1 2 3 4]\n",
      "  [1 1 1 1]\n",
      "  [4 5 6 7]\n",
      "  [9 8 7 8]]]\n",
      "Shape of c is  (1, 4, 4)\n",
      "***************************\n",
      "[20 30 40 50]\n",
      "Shape of d is  (4,)\n",
      "***************************\n",
      "[[1 3 5 7 9]]\n",
      "Shape of e is  (1, 5)\n",
      "***************************\n",
      "[[0. 0. 0.]\n",
      " [0. 0. 0.]]\n",
      "Shape of f is  (2, 3)\n",
      "***************************\n",
      "[[ 0  1  2]\n",
      " [ 3  4  5]\n",
      " [ 6  7  8]\n",
      " [ 9 10 11]]\n",
      "Shape of g is  (4, 3)\n",
      "***************************\n",
      "[[0. 1. 0. 0. 0. 0. 0. 0.]\n",
      " [0. 0. 1. 0. 0. 0. 0. 0.]\n",
      " [0. 0. 0. 1. 0. 0. 0. 0.]\n",
      " [0. 0. 0. 0. 1. 0. 0. 0.]\n",
      " [0. 0. 0. 0. 0. 1. 0. 0.]\n",
      " [0. 0. 0. 0. 0. 0. 1. 0.]\n",
      " [0. 0. 0. 0. 0. 0. 0. 1.]\n",
      " [0. 0. 0. 0. 0. 0. 0. 0.]]\n",
      "Shape of h is  (8, 8)\n"
     ]
    }
   ],
   "source": [
    "print(a)\n",
    "print('Shape of a is ', a.shape)\n",
    "print('Data Type of Elements in a is ',a.dtype)\n",
    "print('Total Number of ELements In a are ',a.size)\n",
    "print('***************************')\n",
    "print(b)\n",
    "print('Shape of b is ', b.shape)\n",
    "print('***************************')\n",
    "print(c)\n",
    "print('Shape of c is ', c.shape)\n",
    "print('***************************')\n",
    "print(d)\n",
    "print('Shape of d is ', d.shape)\n",
    "print('***************************')\n",
    "print(e)\n",
    "print('Shape of e is ', e.shape)\n",
    "print('***************************')\n",
    "print(f)\n",
    "print('Shape of f is ', f.shape)\n",
    "print('***************************')\n",
    "print(g)\n",
    "print('Shape of g is ', g.shape)\n",
    "print('***************************')\n",
    "print(h)\n",
    "print('Shape of h is ', h.shape)"
   ]
  },
  {
   "cell_type": "code",
   "execution_count": 4,
   "metadata": {},
   "outputs": [
    {
     "data": {
      "text/plain": [
       "array([[ 100,  400,  900],\n",
       "       [1600, 2500, 3600],\n",
       "       [4900, 6400, 8100]], dtype=int32)"
      ]
     },
     "execution_count": 4,
     "metadata": {},
     "output_type": "execute_result"
    }
   ],
   "source": [
    "b**2"
   ]
  },
  {
   "cell_type": "markdown",
   "metadata": {},
   "source": [
    "####  Why NumPy Array. Here is The Performance Comparison for normal element wise multiplication and Multiplication in a Vectorized way.\n",
    "\n",
    "This is just a small data so there wont be much difference but when the data size is really huge you will see the impact."
   ]
  },
  {
   "cell_type": "code",
   "execution_count": 5,
   "metadata": {},
   "outputs": [
    {
     "name": "stdout",
     "output_type": "stream",
     "text": [
      "0.6920003890991211\n"
     ]
    }
   ],
   "source": [
    "start = time.time()\n",
    "np.arange(1,100000001).reshape(10000,10000)*np.arange(1,100000001).reshape(10000,10000)\n",
    "end = time.time()\n",
    "print(end - start)"
   ]
  },
  {
   "cell_type": "markdown",
   "metadata": {},
   "source": [
    "### Vectorized Way"
   ]
  },
  {
   "cell_type": "code",
   "execution_count": 6,
   "metadata": {},
   "outputs": [
    {
     "name": "stdout",
     "output_type": "stream",
     "text": [
      "0.6754422187805176\n"
     ]
    }
   ],
   "source": [
    "start = time.time()\n",
    "np.multiply(np.arange(1,100000001).reshape(10000,10000),np.arange(1,100000001).reshape(10000,10000))\n",
    "end = time.time()\n",
    "print(end - start)"
   ]
  },
  {
   "cell_type": "markdown",
   "metadata": {},
   "source": [
    "##### Simple Vs NumPy Methods To Perform Different Mathematical Operations.\n",
    "\n",
    "#### Remember:- Axis=0 means Along The Column and Axis=1 Along the Row"
   ]
  },
  {
   "cell_type": "code",
   "execution_count": 7,
   "metadata": {},
   "outputs": [
    {
     "name": "stdout",
     "output_type": "stream",
     "text": [
      "[[11. 22. 33.]\n",
      " [44. 55. 66.]\n",
      " [79. 89. 99.]]\n",
      "********************************************\n",
      "[[11. 22. 33.]\n",
      " [44. 55. 66.]\n",
      " [79. 89. 99.]]\n"
     ]
    }
   ],
   "source": [
    "print(a+b)\n",
    "print('********************************************')\n",
    "print(np.add(a,b))"
   ]
  },
  {
   "cell_type": "code",
   "execution_count": 8,
   "metadata": {},
   "outputs": [
    {
     "name": "stdout",
     "output_type": "stream",
     "text": [
      "[[ -9. -18. -27.]\n",
      " [-36. -45. -54.]\n",
      " [-61. -71. -81.]]\n",
      "********************************************\n",
      "[[ -9. -18. -27.]\n",
      " [-36. -45. -54.]\n",
      " [-61. -71. -81.]]\n"
     ]
    }
   ],
   "source": [
    "print(a-b)\n",
    "print('********************************************')\n",
    "print(np.subtract(a,b))"
   ]
  },
  {
   "cell_type": "code",
   "execution_count": 9,
   "metadata": {},
   "outputs": [
    {
     "name": "stdout",
     "output_type": "stream",
     "text": [
      "[[ 10.  40.  90.]\n",
      " [160. 250. 360.]\n",
      " [630. 720. 810.]]\n",
      "********************************************\n",
      "[[ 10.  40.  90.]\n",
      " [160. 250. 360.]\n",
      " [630. 720. 810.]]\n"
     ]
    }
   ],
   "source": [
    "print(a*b)\n",
    "print('********************************************')\n",
    "print(np.multiply(a,b))"
   ]
  },
  {
   "cell_type": "code",
   "execution_count": 10,
   "metadata": {},
   "outputs": [
    {
     "name": "stdout",
     "output_type": "stream",
     "text": [
      "[[1.00000000e+00 1.04857600e+06 2.05891132e+14]\n",
      " [1.20892582e+24 8.88178420e+34 4.88736780e+46]\n",
      " [6.26578748e+66 2.18474501e+76 7.61773480e+85]]\n",
      "********************************************\n",
      "[[1.00000000e+00 1.04857600e+06 2.05891132e+14]\n",
      " [1.20892582e+24 8.88178420e+34 4.88736780e+46]\n",
      " [6.26578748e+66 2.18474501e+76 7.61773480e+85]]\n"
     ]
    }
   ],
   "source": [
    "print(a**b)\n",
    "print('********************************************')\n",
    "print(np.power(a,b))"
   ]
  },
  {
   "cell_type": "code",
   "execution_count": 11,
   "metadata": {},
   "outputs": [
    {
     "data": {
      "text/plain": [
       "array([[ True,  True,  True],\n",
       "       [ True, False, False],\n",
       "       [False, False, False]])"
      ]
     },
     "execution_count": 11,
     "metadata": {},
     "output_type": "execute_result"
    }
   ],
   "source": [
    "a<5"
   ]
  },
  {
   "cell_type": "code",
   "execution_count": 12,
   "metadata": {},
   "outputs": [
    {
     "data": {
      "text/plain": [
       "array([[ 300.,  360.,  420.],\n",
       "       [ 660.,  810.,  960.],\n",
       "       [1080., 1350., 1620.]])"
      ]
     },
     "execution_count": 12,
     "metadata": {},
     "output_type": "execute_result"
    }
   ],
   "source": [
    "a.dot(b) ## Matrix Multiplication. This is Not Element Wise."
   ]
  },
  {
   "cell_type": "code",
   "execution_count": 13,
   "metadata": {},
   "outputs": [
    {
     "name": "stdout",
     "output_type": "stream",
     "text": [
      "48.0\n",
      "********************************************\n",
      "[14. 16. 18.]\n",
      "********************************************\n",
      "[ 6. 15. 27.]\n"
     ]
    }
   ],
   "source": [
    "print(np.sum(a))\n",
    "print('********************************************')\n",
    "print(np.sum(a,axis=0))\n",
    "print('********************************************')\n",
    "print(np.sum(a,axis=1))"
   ]
  },
  {
   "cell_type": "code",
   "execution_count": 14,
   "metadata": {},
   "outputs": [
    {
     "name": "stdout",
     "output_type": "stream",
     "text": [
      "1.0\n",
      "********************************************\n",
      "[1. 2. 3.]\n",
      "********************************************\n",
      "[1. 4. 9.]\n"
     ]
    }
   ],
   "source": [
    "print(np.min(a))\n",
    "print('********************************************')\n",
    "print(np.min(a,axis=0))\n",
    "print('********************************************')\n",
    "print(np.min(a,axis=1))"
   ]
  },
  {
   "cell_type": "code",
   "execution_count": 15,
   "metadata": {},
   "outputs": [
    {
     "name": "stdout",
     "output_type": "stream",
     "text": [
      "524880.0\n",
      "********************************************\n",
      "[ 36.  90. 162.]\n",
      "********************************************\n",
      "[  6. 120. 729.]\n"
     ]
    }
   ],
   "source": [
    "print(np.prod(a))\n",
    "print('********************************************')\n",
    "print(np.prod(a,axis=0))\n",
    "print('********************************************')\n",
    "print(np.prod(a,axis=1))"
   ]
  },
  {
   "cell_type": "code",
   "execution_count": 16,
   "metadata": {},
   "outputs": [
    {
     "data": {
      "text/plain": [
       "(array([[-0.19424398, -0.6989886 , -0.6882472 ],\n",
       "        [-0.47950166, -0.5444207 ,  0.6882472 ],\n",
       "        [-0.85577303,  0.46370354, -0.22941573]], dtype=float32),\n",
       " array([1.8190639e+01, 1.7608637e+00, 9.6880399e-17], dtype=float32),\n",
       " array([[-0.53951967, -0.5765577 , -0.6135957 ],\n",
       "        [ 0.73637754,  0.03024143, -0.6758947 ],\n",
       "        [-0.4082483 ,  0.8164966 , -0.4082483 ]], dtype=float32))"
      ]
     },
     "execution_count": 16,
     "metadata": {},
     "output_type": "execute_result"
    }
   ],
   "source": [
    "np.linalg.svd(a)"
   ]
  },
  {
   "cell_type": "code",
   "execution_count": 17,
   "metadata": {},
   "outputs": [
    {
     "name": "stdout",
     "output_type": "stream",
     "text": [
      "[ 1.  3.  6. 10. 15. 21. 30. 39. 48.]\n",
      "********************************************\n",
      "[[ 1.  2.  3.]\n",
      " [ 5.  7.  9.]\n",
      " [14. 16. 18.]]\n",
      "********************************************\n",
      "[[ 1.  3.  6.]\n",
      " [ 4.  9. 15.]\n",
      " [ 9. 18. 27.]]\n"
     ]
    }
   ],
   "source": [
    "print(np.cumsum(a))\n",
    "print('********************************************')\n",
    "print(np.cumsum(a,axis=0))\n",
    "print('********************************************')\n",
    "print(np.cumsum(a,axis=1))"
   ]
  },
  {
   "cell_type": "code",
   "execution_count": 18,
   "metadata": {},
   "outputs": [
    {
     "data": {
      "text/plain": [
       "array([[  1.,   2.,   3.],\n",
       "       [  4.,  10.,  18.],\n",
       "       [ 36.,  90., 162.]], dtype=float32)"
      ]
     },
     "execution_count": 18,
     "metadata": {},
     "output_type": "execute_result"
    }
   ],
   "source": [
    "a.cumprod(axis=0) "
   ]
  },
  {
   "cell_type": "code",
   "execution_count": 19,
   "metadata": {},
   "outputs": [
    {
     "data": {
      "text/plain": [
       "array([[11., 22., 33.],\n",
       "       [44., 55., 66.],\n",
       "       [79., 89., 99.]])"
      ]
     },
     "execution_count": 19,
     "metadata": {},
     "output_type": "execute_result"
    }
   ],
   "source": [
    "np.add(a,b) # We can Add Two arrays also"
   ]
  },
  {
   "cell_type": "code",
   "execution_count": 20,
   "metadata": {},
   "outputs": [
    {
     "data": {
      "text/plain": [
       "array([[1., 2., 3.],\n",
       "       [4., 5., 6.],\n",
       "       [9., 9., 9.]], dtype=float32)"
      ]
     },
     "execution_count": 20,
     "metadata": {},
     "output_type": "execute_result"
    }
   ],
   "source": [
    "a"
   ]
  },
  {
   "cell_type": "code",
   "execution_count": 21,
   "metadata": {},
   "outputs": [
    {
     "data": {
      "text/plain": [
       "array([[1., 2., 3.],\n",
       "       [4., 5., 6.]], dtype=float32)"
      ]
     },
     "execution_count": 21,
     "metadata": {},
     "output_type": "execute_result"
    }
   ],
   "source": [
    "a[0:2] # Indexing to select Desired Rows and Columns"
   ]
  },
  {
   "cell_type": "code",
   "execution_count": 22,
   "metadata": {},
   "outputs": [
    {
     "data": {
      "text/plain": [
       "6.0"
      ]
     },
     "execution_count": 22,
     "metadata": {},
     "output_type": "execute_result"
    }
   ],
   "source": [
    "a[1,2] # Row and Column Numbers are seperated by ','"
   ]
  },
  {
   "cell_type": "code",
   "execution_count": 23,
   "metadata": {},
   "outputs": [
    {
     "data": {
      "text/plain": [
       "array([[1., 2., 3.],\n",
       "       [9., 9., 9.]], dtype=float32)"
      ]
     },
     "execution_count": 23,
     "metadata": {},
     "output_type": "execute_result"
    }
   ],
   "source": [
    "a[[0,2],:]"
   ]
  },
  {
   "cell_type": "code",
   "execution_count": 24,
   "metadata": {},
   "outputs": [
    {
     "data": {
      "text/plain": [
       "array([2., 5., 9.], dtype=float32)"
      ]
     },
     "execution_count": 24,
     "metadata": {},
     "output_type": "execute_result"
    }
   ],
   "source": [
    "a[:,1]"
   ]
  },
  {
   "cell_type": "code",
   "execution_count": 25,
   "metadata": {},
   "outputs": [
    {
     "data": {
      "text/plain": [
       "array([[9., 4., 1.],\n",
       "       [9., 5., 2.],\n",
       "       [9., 6., 3.]], dtype=float32)"
      ]
     },
     "execution_count": 25,
     "metadata": {},
     "output_type": "execute_result"
    }
   ],
   "source": [
    "a[::-1].T # Inverting a 2D Array and Then Transposing It."
   ]
  },
  {
   "cell_type": "code",
   "execution_count": 26,
   "metadata": {},
   "outputs": [
    {
     "data": {
      "text/plain": [
       "array([[1., 4., 9.],\n",
       "       [2., 5., 9.],\n",
       "       [3., 6., 9.]], dtype=float32)"
      ]
     },
     "execution_count": 26,
     "metadata": {},
     "output_type": "execute_result"
    }
   ],
   "source": [
    "a.T"
   ]
  },
  {
   "cell_type": "code",
   "execution_count": 27,
   "metadata": {},
   "outputs": [
    {
     "data": {
      "text/plain": [
       "array([1., 2., 3., 4., 5., 6., 9., 9., 9.], dtype=float32)"
      ]
     },
     "execution_count": 27,
     "metadata": {},
     "output_type": "execute_result"
    }
   ],
   "source": [
    "a.flatten()"
   ]
  },
  {
   "cell_type": "code",
   "execution_count": 28,
   "metadata": {},
   "outputs": [
    {
     "data": {
      "text/plain": [
       "array([1., 2., 3., 4., 5., 6., 9., 9., 9.], dtype=float32)"
      ]
     },
     "execution_count": 28,
     "metadata": {},
     "output_type": "execute_result"
    }
   ],
   "source": [
    "a.ravel()"
   ]
  },
  {
   "cell_type": "markdown",
   "metadata": {},
   "source": [
    "#### Notice How flatten and Ravel does the same work"
   ]
  },
  {
   "cell_type": "code",
   "execution_count": 29,
   "metadata": {},
   "outputs": [
    {
     "data": {
      "text/plain": [
       "9"
      ]
     },
     "execution_count": 29,
     "metadata": {},
     "output_type": "execute_result"
    }
   ],
   "source": [
    "c=b-a\n",
    "len(c[c!=0])  #### Way to Find How many Elements are Different Index Wise"
   ]
  },
  {
   "cell_type": "code",
   "execution_count": 30,
   "metadata": {},
   "outputs": [
    {
     "data": {
      "text/plain": [
       "2"
      ]
     },
     "execution_count": 30,
     "metadata": {},
     "output_type": "execute_result"
    }
   ],
   "source": [
    "np.count_nonzero(np.array([1,2,0,2,1])-np.array([1,0,3,2,1]))  #### Way to Find How many Elements are Different Index Wise"
   ]
  },
  {
   "cell_type": "code",
   "execution_count": 31,
   "metadata": {},
   "outputs": [
    {
     "data": {
      "text/plain": [
       "(array([2, 3, 4, 5, 8, 9]),\n",
       " array([1, 3, 4, 5, 8, 9], dtype=int64),\n",
       " array([1, 3, 4, 5, 6, 7], dtype=int64))"
      ]
     },
     "execution_count": 31,
     "metadata": {},
     "output_type": "execute_result"
    }
   ],
   "source": [
    "np.intersect1d(np.array([1,2,2,3,4,5,6,7,8,9]),np.array([0,2,2,3,4,5,8,9,10]),return_indices=True)\n",
    "\n",
    "#### Way to Find How many Elements are Different. Remember Here it doesnt take Index Wise."
   ]
  },
  {
   "cell_type": "code",
   "execution_count": 32,
   "metadata": {},
   "outputs": [
    {
     "data": {
      "text/plain": [
       "(array([0, 1, 2]),\n",
       " array([3, 0, 1], dtype=int64),\n",
       " array([3, 1, 0], dtype=int64))"
      ]
     },
     "execution_count": 32,
     "metadata": {},
     "output_type": "execute_result"
    }
   ],
   "source": [
    "np.intersect1d(np.array([1,2,2,0,0]),np.array([2,1,1,0,1]),return_indices=True)"
   ]
  },
  {
   "cell_type": "code",
   "execution_count": 33,
   "metadata": {},
   "outputs": [
    {
     "data": {
      "text/plain": [
       "array([2, 3, 4, 5, 8, 9])"
      ]
     },
     "execution_count": 33,
     "metadata": {},
     "output_type": "execute_result"
    }
   ],
   "source": [
    "np.array([0,2,2,3,4,5,8,9,10])[[1, 3, 4, 5, 6, 7]]"
   ]
  },
  {
   "cell_type": "markdown",
   "metadata": {},
   "source": [
    "#### Stacking Array's Using Different Functions"
   ]
  },
  {
   "cell_type": "code",
   "execution_count": 34,
   "metadata": {},
   "outputs": [
    {
     "data": {
      "text/plain": [
       "array([[ 1.,  2.,  3.],\n",
       "       [ 4.,  5.,  6.],\n",
       "       [ 9.,  9.,  9.],\n",
       "       [10., 20., 30.],\n",
       "       [40., 50., 60.],\n",
       "       [70., 80., 90.]])"
      ]
     },
     "execution_count": 34,
     "metadata": {},
     "output_type": "execute_result"
    }
   ],
   "source": [
    "np.vstack((a,b))"
   ]
  },
  {
   "cell_type": "code",
   "execution_count": 35,
   "metadata": {},
   "outputs": [
    {
     "data": {
      "text/plain": [
       "array([[ 1.,  2.,  3., 10., 20., 30.],\n",
       "       [ 4.,  5.,  6., 40., 50., 60.],\n",
       "       [ 9.,  9.,  9., 70., 80., 90.]])"
      ]
     },
     "execution_count": 35,
     "metadata": {},
     "output_type": "execute_result"
    }
   ],
   "source": [
    "np.hstack((a,b))"
   ]
  },
  {
   "cell_type": "code",
   "execution_count": 36,
   "metadata": {},
   "outputs": [
    {
     "data": {
      "text/plain": [
       "array([[ 1.,  2.,  3.],\n",
       "       [ 4.,  5.,  6.],\n",
       "       [ 9.,  9.,  9.],\n",
       "       [10., 20., 30.],\n",
       "       [40., 50., 60.],\n",
       "       [70., 80., 90.]])"
      ]
     },
     "execution_count": 36,
     "metadata": {},
     "output_type": "execute_result"
    }
   ],
   "source": [
    "np.concatenate((a,b),axis=0)"
   ]
  },
  {
   "cell_type": "code",
   "execution_count": 37,
   "metadata": {},
   "outputs": [
    {
     "data": {
      "text/plain": [
       "array([[ 1.,  2.,  3., 10., 20., 30.],\n",
       "       [ 4.,  5.,  6., 40., 50., 60.],\n",
       "       [ 9.,  9.,  9., 70., 80., 90.]])"
      ]
     },
     "execution_count": 37,
     "metadata": {},
     "output_type": "execute_result"
    }
   ],
   "source": [
    "np.concatenate((a,b),axis=1)"
   ]
  },
  {
   "cell_type": "code",
   "execution_count": 38,
   "metadata": {},
   "outputs": [
    {
     "data": {
      "text/plain": [
       "array([[1., 2., 3.],\n",
       "       [4., 5., 6.],\n",
       "       [9., 9., 9.]], dtype=float32)"
      ]
     },
     "execution_count": 38,
     "metadata": {},
     "output_type": "execute_result"
    }
   ],
   "source": [
    "a"
   ]
  },
  {
   "cell_type": "code",
   "execution_count": 39,
   "metadata": {},
   "outputs": [
    {
     "data": {
      "text/plain": [
       "7"
      ]
     },
     "execution_count": 39,
     "metadata": {},
     "output_type": "execute_result"
    }
   ],
   "source": [
    "np.argmax(np.array([[1., 2., 3.],[4., 5., 6.],\n",
    "       [7., 80., 9.]]))"
   ]
  },
  {
   "cell_type": "code",
   "execution_count": 40,
   "metadata": {},
   "outputs": [
    {
     "data": {
      "text/plain": [
       "1"
      ]
     },
     "execution_count": 40,
     "metadata": {},
     "output_type": "execute_result"
    }
   ],
   "source": [
    "pd.Series([100,2000,1,3]).idxmax()"
   ]
  },
  {
   "cell_type": "code",
   "execution_count": 41,
   "metadata": {},
   "outputs": [
    {
     "data": {
      "text/plain": [
       "1"
      ]
     },
     "execution_count": 41,
     "metadata": {},
     "output_type": "execute_result"
    }
   ],
   "source": [
    "pd.Series(np.array([100,2000,1,3])).idxmax()"
   ]
  },
  {
   "cell_type": "markdown",
   "metadata": {},
   "source": [
    "### Argmax and Argmin  are Very Important Functions and the Same Can be Done With Pandas Series and then Fetch that Index specially in a Pandas dataframe"
   ]
  },
  {
   "cell_type": "code",
   "execution_count": 42,
   "metadata": {},
   "outputs": [
    {
     "data": {
      "text/plain": [
       "array([[1., 2., 3.],\n",
       "       [4., 5., 6.],\n",
       "       [9., 9., 9.]], dtype=float32)"
      ]
     },
     "execution_count": 42,
     "metadata": {},
     "output_type": "execute_result"
    }
   ],
   "source": [
    "a"
   ]
  },
  {
   "cell_type": "code",
   "execution_count": 43,
   "metadata": {},
   "outputs": [
    {
     "data": {
      "text/plain": [
       "array([[False, False, False],\n",
       "       [False, False,  True],\n",
       "       [ True,  True,  True]])"
      ]
     },
     "execution_count": 43,
     "metadata": {},
     "output_type": "execute_result"
    }
   ],
   "source": [
    "a>5"
   ]
  },
  {
   "cell_type": "code",
   "execution_count": 44,
   "metadata": {},
   "outputs": [
    {
     "data": {
      "text/plain": [
       "array([6, 3], dtype=int64)"
      ]
     },
     "execution_count": 44,
     "metadata": {},
     "output_type": "execute_result"
    }
   ],
   "source": [
    "np.bincount(a.astype(int).ravel()==9) ## Counts The Number of Times 9 is Present."
   ]
  },
  {
   "cell_type": "code",
   "execution_count": 45,
   "metadata": {},
   "outputs": [
    {
     "data": {
      "text/plain": [
       "array([[1., 2., 0.]])"
      ]
     },
     "execution_count": 45,
     "metadata": {},
     "output_type": "execute_result"
    }
   ],
   "source": [
    "np.nan_to_num(np.array([[1,2,np.nan]])) ## Converting the nan(or Null Values) To an Integer"
   ]
  },
  {
   "cell_type": "markdown",
   "metadata": {},
   "source": [
    "## Broadcasting \n",
    "\n",
    "One of the Most Important Topic In NumPy. It works with the below rules.\n",
    "\n",
    "Two dimensions are compatible when\n",
    "\n",
    "1. they are equal, or\n",
    "2. one of them is 1\n",
    "\n",
    "Read More At :- https://docs.scipy.org/doc/numpy/user/basics.broadcasting.html"
   ]
  },
  {
   "cell_type": "code",
   "execution_count": 46,
   "metadata": {},
   "outputs": [
    {
     "ename": "ValueError",
     "evalue": "operands could not be broadcast together with shapes (4,) (3,) ",
     "output_type": "error",
     "traceback": [
      "\u001b[1;31m---------------------------------------------------------------------------\u001b[0m",
      "\u001b[1;31mValueError\u001b[0m                                Traceback (most recent call last)",
      "\u001b[1;32m<ipython-input-46-42587a5686d4>\u001b[0m in \u001b[0;36m<module>\u001b[1;34m\u001b[0m\n\u001b[1;32m----> 1\u001b[1;33m \u001b[0mnp\u001b[0m\u001b[1;33m.\u001b[0m\u001b[0marray\u001b[0m\u001b[1;33m(\u001b[0m\u001b[1;33m[\u001b[0m\u001b[1;36m0.0\u001b[0m\u001b[1;33m,\u001b[0m \u001b[1;36m10.0\u001b[0m\u001b[1;33m,\u001b[0m \u001b[1;36m20.0\u001b[0m\u001b[1;33m,\u001b[0m \u001b[1;36m30.0\u001b[0m\u001b[1;33m]\u001b[0m\u001b[1;33m)\u001b[0m\u001b[1;33m+\u001b[0m \u001b[0mnp\u001b[0m\u001b[1;33m.\u001b[0m\u001b[0marray\u001b[0m\u001b[1;33m(\u001b[0m\u001b[1;33m[\u001b[0m\u001b[1;36m1.0\u001b[0m\u001b[1;33m,\u001b[0m \u001b[1;36m2.0\u001b[0m\u001b[1;33m,\u001b[0m \u001b[1;36m3.0\u001b[0m\u001b[1;33m]\u001b[0m\u001b[1;33m)\u001b[0m\u001b[1;33m\u001b[0m\u001b[1;33m\u001b[0m\u001b[0m\n\u001b[0m\u001b[0;32m      2\u001b[0m \u001b[1;33m\u001b[0m\u001b[0m\n\u001b[0;32m      3\u001b[0m \u001b[1;31m# Here Rule Voilated Because Neither the Dimensions are Same Not Any One of them is 1\u001b[0m\u001b[1;33m\u001b[0m\u001b[1;33m\u001b[0m\u001b[1;33m\u001b[0m\u001b[0m\n",
      "\u001b[1;31mValueError\u001b[0m: operands could not be broadcast together with shapes (4,) (3,) "
     ]
    }
   ],
   "source": [
    "np.array([0.0, 10.0, 20.0, 30.0])+ np.array([1.0, 2.0, 3.0]) \n",
    "\n",
    "# Here Rule Voilated Because Neither the Dimensions are Same Not Any One of them is 1"
   ]
  },
  {
   "cell_type": "code",
   "execution_count": 47,
   "metadata": {},
   "outputs": [
    {
     "data": {
      "text/plain": [
       "array([[ 1., 12., 23., 34.],\n",
       "       [ 1., 12., 23., 34.],\n",
       "       [ 1., 12., 23., 34.]])"
      ]
     },
     "execution_count": 47,
     "metadata": {},
     "output_type": "execute_result"
    }
   ],
   "source": [
    "np.array([[0.0, 10.0, 20.0, 30.0],[0.0, 10.0, 20.0, 30.0],[0.0, 10.0, 20.0, 30.0]])+ np.array([1.0, 2.0, 3.0,4.0])\n",
    "\n",
    "# Here the 1st Array is (4,2) and Second is (4,1). So the 2nd Array will be applied to both Rows"
   ]
  },
  {
   "cell_type": "code",
   "execution_count": 48,
   "metadata": {},
   "outputs": [
    {
     "ename": "ValueError",
     "evalue": "operands could not be broadcast together with shapes (3,4) (1,5) ",
     "output_type": "error",
     "traceback": [
      "\u001b[1;31m---------------------------------------------------------------------------\u001b[0m",
      "\u001b[1;31mValueError\u001b[0m                                Traceback (most recent call last)",
      "\u001b[1;32m<ipython-input-48-e62307a20d08>\u001b[0m in \u001b[0;36m<module>\u001b[1;34m\u001b[0m\n\u001b[1;32m----> 1\u001b[1;33m \u001b[0mnp\u001b[0m\u001b[1;33m.\u001b[0m\u001b[0mones\u001b[0m\u001b[1;33m(\u001b[0m\u001b[1;33m(\u001b[0m\u001b[1;36m3\u001b[0m\u001b[1;33m,\u001b[0m\u001b[1;36m4\u001b[0m\u001b[1;33m)\u001b[0m\u001b[1;33m)\u001b[0m\u001b[1;33m+\u001b[0m\u001b[0mnp\u001b[0m\u001b[1;33m.\u001b[0m\u001b[0mones\u001b[0m\u001b[1;33m(\u001b[0m\u001b[1;33m(\u001b[0m\u001b[1;36m1\u001b[0m\u001b[1;33m,\u001b[0m\u001b[1;36m5\u001b[0m\u001b[1;33m)\u001b[0m\u001b[1;33m)\u001b[0m \u001b[1;31m# Here Also Rule is Voilated.\u001b[0m\u001b[1;33m\u001b[0m\u001b[1;33m\u001b[0m\u001b[0m\n\u001b[0m",
      "\u001b[1;31mValueError\u001b[0m: operands could not be broadcast together with shapes (3,4) (1,5) "
     ]
    }
   ],
   "source": [
    "np.ones((3,4))+np.ones((1,5)) # Here Also Rule is Voilated."
   ]
  },
  {
   "cell_type": "code",
   "execution_count": 49,
   "metadata": {},
   "outputs": [
    {
     "name": "stdout",
     "output_type": "stream",
     "text": [
      "[[1. 1. 1. 1.]\n",
      " [1. 1. 1. 1.]\n",
      " [1. 1. 1. 1.]]\n",
      "*****************************\n",
      "[[1. 1. 1. 1.]]\n",
      "*****************************\n",
      "[[1.]\n",
      " [1.]\n",
      " [1.]\n",
      " [1.]]\n"
     ]
    }
   ],
   "source": [
    "print(np.ones((3,4)))\n",
    "print('*****************************')\n",
    "print(np.ones((1,4)))\n",
    "print('*****************************')\n",
    "print(np.ones((4,1)))"
   ]
  },
  {
   "cell_type": "code",
   "execution_count": 50,
   "metadata": {},
   "outputs": [
    {
     "data": {
      "text/plain": [
       "array([[2., 2., 2., 2.],\n",
       "       [2., 2., 2., 2.],\n",
       "       [2., 2., 2., 2.]])"
      ]
     },
     "execution_count": 50,
     "metadata": {},
     "output_type": "execute_result"
    }
   ],
   "source": [
    "np.ones((3,4))+np.ones((1,4)) # See Above and Imagine How the sameller was added to the smaller one"
   ]
  },
  {
   "cell_type": "code",
   "execution_count": 51,
   "metadata": {},
   "outputs": [
    {
     "data": {
      "text/plain": [
       "array([[2., 2., 2.],\n",
       "       [2., 2., 2.],\n",
       "       [2., 2., 2.],\n",
       "       [2., 2., 2.]])"
      ]
     },
     "execution_count": 51,
     "metadata": {},
     "output_type": "execute_result"
    }
   ],
   "source": [
    "np.ones((4,3))+np.ones((4,1))"
   ]
  },
  {
   "cell_type": "code",
   "execution_count": null,
   "metadata": {},
   "outputs": [],
   "source": []
  }
 ],
 "metadata": {
  "kernelspec": {
   "display_name": "Python 3",
   "language": "python",
   "name": "python3"
  },
  "language_info": {
   "codemirror_mode": {
    "name": "ipython",
    "version": 3
   },
   "file_extension": ".py",
   "mimetype": "text/x-python",
   "name": "python",
   "nbconvert_exporter": "python",
   "pygments_lexer": "ipython3",
   "version": "3.6.7"
  }
 },
 "nbformat": 4,
 "nbformat_minor": 2
}
