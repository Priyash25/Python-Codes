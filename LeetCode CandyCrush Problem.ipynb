{
 "cells": [
  {
   "cell_type": "markdown",
   "metadata": {},
   "source": [
    "### Here Is The LeetCode Problem  https://leetcode.com/problems/candy-crush/"
   ]
  },
  {
   "attachments": {},
   "cell_type": "markdown",
   "metadata": {},
   "source": [
    "<img src=\"download (1).png\" width=\"800\" />"
   ]
  },
  {
   "cell_type": "code",
   "execution_count": 1,
   "metadata": {},
   "outputs": [],
   "source": [
    "class Solution:\n",
    "    def candyCrush(self, board):\n",
    "        \n",
    "        def search_row(self,rows,columns,board):\n",
    "            # Search in The Row For Similar Elements and Add It to a Set\n",
    "            ans=set([])\n",
    "\n",
    "            for i in range(rows):\n",
    "                for elem_index in range(0,columns-2):\n",
    "                    if board[i][elem_index]==board[i][elem_index+1]==board[i][elem_index+2] and board[i][elem_index]!=0 :\n",
    "                        ans=ans | set([(i,elem_index),(i,elem_index+1),(i,elem_index+2)])              \n",
    "            return ans\n",
    "    \n",
    "        def search_column(self,row,cols,board):\n",
    "            # Search in The Column For Similar Elements and Add It to a Set\n",
    "            ans1=set([])\n",
    "\n",
    "            for i in range(row):\n",
    "                for j in range(cols):\n",
    "                    if board[i][j]==board[i+1][j]==board[i+2][j] and board[i][j]!=0:\n",
    "                        ans1=ans1 | set([(i,j),(i+1,j),(i+2,j)])           \n",
    "            return ans1\n",
    "\n",
    "\n",
    "        def crush_elements(self,indices,board):\n",
    "            # Crush Elements By Making Them 0\n",
    "\n",
    "            for index in indices:\n",
    "                board[index[0]][index[1]]=0\n",
    "\n",
    "            board=shift_elements(self,board,len(board),len(board[0])) # You Need to Shift the Elements Too\n",
    "\n",
    "            return board\n",
    "\n",
    "        def shift_elements(self,board,rows,columns):\n",
    "\n",
    "            # Strategy Is to Move From Bottom To Top and Use 2 variables in such a way that you can swicth elements if j is 0\n",
    "            \n",
    "            for i in range(columns):\n",
    "\n",
    "                m=rows-1\n",
    "                j=rows-1\n",
    "\n",
    "                while m>=0:\n",
    "                    if board[j][i]==0:\n",
    "                        if board[m][i]==0:\n",
    "                            m-=1\n",
    "                        else:\n",
    "                            board[j][i]=board[m][i]\n",
    "                            board[m][i]=0\n",
    "                            m-=1\n",
    "                            j-=1\n",
    "                    else:\n",
    "                        m-=1\n",
    "                        j-=1\n",
    "\n",
    "            return board\n",
    "    \n",
    "        rows=len(board)\n",
    "        columns=len(board[0])\n",
    "\n",
    "        elem_left=True\n",
    "\n",
    "        while elem_left:\n",
    "        \n",
    "            #Strategy is To Seach for Similar Items until we dont find one.\n",
    "\n",
    "            row_duplicates=search_row(self,rows,columns,board)\n",
    "            col_duplicates=search_column(self,rows-2,columns,board)\n",
    "\n",
    "            if len(row_duplicates)!=0  or len(col_duplicates)!=0:\n",
    "                board=crush_elements(self,row_duplicates|col_duplicates,board)\n",
    "            else:\n",
    "                board=crush_elements(self,row_duplicates|col_duplicates,board)\n",
    "                elem_left=False  \n",
    "                return board"
   ]
  },
  {
   "cell_type": "code",
   "execution_count": 2,
   "metadata": {},
   "outputs": [
    {
     "data": {
      "text/plain": [
       "[[0, 0, 0, 0, 0],\n",
       " [0, 0, 0, 0, 0],\n",
       " [0, 0, 0, 0, 0],\n",
       " [110, 0, 0, 0, 114],\n",
       " [210, 0, 0, 0, 214],\n",
       " [310, 0, 0, 113, 314],\n",
       " [410, 0, 0, 213, 414],\n",
       " [610, 211, 112, 313, 614],\n",
       " [710, 311, 412, 613, 714],\n",
       " [810, 411, 512, 713, 1014]]"
      ]
     },
     "execution_count": 2,
     "metadata": {},
     "output_type": "execute_result"
    }
   ],
   "source": [
    "sol=Solution()\n",
    "\n",
    "sol.candyCrush([[110,5,112,113,114],[210,211,5,213,214],[310,311,3,313,314],[410,411,412,5,414],\n",
    "                [5,1,512,3,3],[610,4,1,613,614],[710,1,2,713,714],[810,1,2,1,1],[1,1,2,2,2],[4,1,4,4,1014]])"
   ]
  },
  {
   "cell_type": "markdown",
   "metadata": {},
   "source": [
    "<img src=\"Capture100.JPG\" width=\"800\" />"
   ]
  },
  {
   "cell_type": "code",
   "execution_count": null,
   "metadata": {},
   "outputs": [],
   "source": []
  }
 ],
 "metadata": {
  "kernelspec": {
   "display_name": "Python 3",
   "language": "python",
   "name": "python3"
  },
  "language_info": {
   "codemirror_mode": {
    "name": "ipython",
    "version": 3
   },
   "file_extension": ".py",
   "mimetype": "text/x-python",
   "name": "python",
   "nbconvert_exporter": "python",
   "pygments_lexer": "ipython3",
   "version": "3.6.7"
  }
 },
 "nbformat": 4,
 "nbformat_minor": 2
}
